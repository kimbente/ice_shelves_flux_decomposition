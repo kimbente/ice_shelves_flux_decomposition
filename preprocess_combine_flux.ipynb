{
 "cells": [
  {
   "cell_type": "markdown",
   "id": "2c120704",
   "metadata": {},
   "source": [
    "# Prepare training tensor\n",
    "\n",
    "Create a tensor with columns [x_norm, y_norm, flux_x_scaled, flux_y_scaled]"
   ]
  },
  {
   "cell_type": "code",
   "execution_count": 1,
   "metadata": {},
   "outputs": [],
   "source": [
    "import numpy as np\n",
    "import pandas as pd\n",
    "import xarray as xr\n",
    "import torch\n",
    "import matplotlib.pyplot as plt"
   ]
  },
  {
   "cell_type": "code",
   "execution_count": 2,
   "id": "38c011a6",
   "metadata": {},
   "outputs": [],
   "source": [
    "# Load thickness points\n",
    "# NOTE: Now we removed outliers (4 steps)\n",
    "thickness = pd.read_csv(\"data/bedmap123_ross_onshelf_3M.csv\")"
   ]
  },
  {
   "cell_type": "code",
   "execution_count": 13,
   "id": "5e414b85",
   "metadata": {},
   "outputs": [
    {
     "data": {
      "application/vnd.microsoft.datawrangler.viewer.v0+json": {
       "columns": [
        {
         "name": "index",
         "rawType": "object",
         "type": "string"
        },
        {
         "name": "lon",
         "rawType": "float64",
         "type": "float"
        },
        {
         "name": "lat",
         "rawType": "float64",
         "type": "float"
        },
        {
         "name": "x",
         "rawType": "float64",
         "type": "float"
        },
        {
         "name": "y",
         "rawType": "float64",
         "type": "float"
        },
        {
         "name": "s",
         "rawType": "float64",
         "type": "float"
        },
        {
         "name": "t",
         "rawType": "float64",
         "type": "float"
        },
        {
         "name": "b",
         "rawType": "float64",
         "type": "float"
        },
        {
         "name": "t_fa",
         "rawType": "float64",
         "type": "float"
        },
        {
         "name": "x_norm",
         "rawType": "float64",
         "type": "float"
        },
        {
         "name": "y_norm",
         "rawType": "float64",
         "type": "float"
        },
        {
         "name": "VX",
         "rawType": "float64",
         "type": "float"
        },
        {
         "name": "VY",
         "rawType": "float64",
         "type": "float"
        },
        {
         "name": "VX_flux",
         "rawType": "float64",
         "type": "float"
        },
        {
         "name": "VY_flux",
         "rawType": "float64",
         "type": "float"
        },
        {
         "name": "flux_mag",
         "rawType": "float64",
         "type": "float"
        }
       ],
       "ref": "52186702-4f70-456e-b9a7-9d81c177d80c",
       "rows": [
        [
         "count",
         "3208089.0",
         "3208089.0",
         "3208089.0",
         "3208089.0",
         "3208089.0",
         "3208089.0",
         "3208089.0",
         "3208089.0",
         "3208089.0",
         "3208089.0",
         "3208089.0",
         "3208089.0",
         "3208089.0",
         "3208089.0",
         "3208089.0"
        ],
        [
         "mean",
         "-22.65057217091622",
         "-80.58366695210377",
         "-65271.07645894027",
         "-993448.9880774043",
         "-132.06452955121281",
         "435.37854482036516",
         "-557.3808874546314",
         "425.3785448203653",
         "0.5347289235410598",
         "0.4065510119225963",
         "16.892598953416538",
         "-386.3593316528603",
         "15472.947072936611",
         "-143273.70134842893",
         "172236.52028092876"
        ],
        [
         "std",
         "166.4928797380214",
         "1.7976368092136041",
         "247921.31124316898",
         "194246.61859750768",
         "1179.1334026659526",
         "163.99896245616432",
         "1128.3500041650057",
         "163.9989624561642",
         "0.24792131124317104",
         "0.19424661859750794",
         "183.46897504268443",
         "281.0983240016388",
         "107622.41422876182",
         "93327.52648416575",
         "106742.47112082317"
        ],
        [
         "min",
         "-183.8281178",
         "-85.351443",
         "-585474.5456570546",
         "-1354849.6721195667",
         "-9999.0",
         "0.0",
         "-9999.0",
         "-10.0",
         "0.014525454342945363",
         "0.04515032788043329",
         "-618.4716796875001",
         "-1115.2073326320683",
         "-991198.8416499149",
         "-1618364.8376084338",
         "0.0"
        ],
        [
         "25%",
         "-167.67199714472",
         "-81.98555816152799",
         "-240221.8448364344",
         "-1140291.031124469",
         "-4.614679483216",
         "332.52009919806",
         "-507.9",
         "322.52009919806",
         "0.3597781551635656",
         "0.25970896887553113",
         "-90.51174050940898",
         "-610.8998177906299",
         "-30220.224224846643",
         "-209895.93638807352",
         "99686.32967963937"
        ],
        [
         "50%",
         "-154.92294",
         "-80.259959841846",
         "-61777.79792479754",
         "-1010244.2467945884",
         "5.2167763360029005",
         "384.51077533048",
         "-381.5673982796964",
         "374.51077533048",
         "0.5382222020752024",
         "0.3897557532054116",
         "34.85885156065115",
         "-338.6523065110286",
         "11073.568525596269",
         "-137892.6060944769",
         "174639.90957706486"
        ],
        [
         "75%",
         "169.55406817997",
         "-79.198930392278",
         "139382.1475467008",
         "-850229.7335307486",
         "19.7",
         "519.09936499488",
         "-333.5464301164784",
         "509.09936499488",
         "0.7393821475467007",
         "0.5497702664692513",
         "111.43580633401508",
         "-164.11542737389493",
         "43536.02080733648",
         "-80110.13754536641",
         "241394.96833574612"
        ],
        [
         "max",
         "194.9700691",
         "-77.432351",
         "389463.9249411536",
         "-449745.5514594577",
         "10508.0",
         "2164.64",
         "9999.0",
         "2154.64",
         "0.9894639249411536",
         "0.9502544485405423",
         "430.6498403453599",
         "231.72148765343985",
         "385261.7480694417",
         "141224.53455140904",
         "1626299.6410146868"
        ]
       ],
       "shape": {
        "columns": 15,
        "rows": 8
       }
      },
      "text/html": [
       "<div>\n",
       "<style scoped>\n",
       "    .dataframe tbody tr th:only-of-type {\n",
       "        vertical-align: middle;\n",
       "    }\n",
       "\n",
       "    .dataframe tbody tr th {\n",
       "        vertical-align: top;\n",
       "    }\n",
       "\n",
       "    .dataframe thead th {\n",
       "        text-align: right;\n",
       "    }\n",
       "</style>\n",
       "<table border=\"1\" class=\"dataframe\">\n",
       "  <thead>\n",
       "    <tr style=\"text-align: right;\">\n",
       "      <th></th>\n",
       "      <th>lon</th>\n",
       "      <th>lat</th>\n",
       "      <th>x</th>\n",
       "      <th>y</th>\n",
       "      <th>s</th>\n",
       "      <th>t</th>\n",
       "      <th>b</th>\n",
       "      <th>t_fa</th>\n",
       "      <th>x_norm</th>\n",
       "      <th>y_norm</th>\n",
       "      <th>VX</th>\n",
       "      <th>VY</th>\n",
       "      <th>VX_flux</th>\n",
       "      <th>VY_flux</th>\n",
       "      <th>flux_mag</th>\n",
       "    </tr>\n",
       "  </thead>\n",
       "  <tbody>\n",
       "    <tr>\n",
       "      <th>count</th>\n",
       "      <td>3.208089e+06</td>\n",
       "      <td>3.208089e+06</td>\n",
       "      <td>3.208089e+06</td>\n",
       "      <td>3.208089e+06</td>\n",
       "      <td>3.208089e+06</td>\n",
       "      <td>3.208089e+06</td>\n",
       "      <td>3.208089e+06</td>\n",
       "      <td>3.208089e+06</td>\n",
       "      <td>3.208089e+06</td>\n",
       "      <td>3.208089e+06</td>\n",
       "      <td>3.208089e+06</td>\n",
       "      <td>3.208089e+06</td>\n",
       "      <td>3.208089e+06</td>\n",
       "      <td>3.208089e+06</td>\n",
       "      <td>3.208089e+06</td>\n",
       "    </tr>\n",
       "    <tr>\n",
       "      <th>mean</th>\n",
       "      <td>-2.265057e+01</td>\n",
       "      <td>-8.058367e+01</td>\n",
       "      <td>-6.527108e+04</td>\n",
       "      <td>-9.934490e+05</td>\n",
       "      <td>-1.320645e+02</td>\n",
       "      <td>4.353785e+02</td>\n",
       "      <td>-5.573809e+02</td>\n",
       "      <td>4.253785e+02</td>\n",
       "      <td>5.347289e-01</td>\n",
       "      <td>4.065510e-01</td>\n",
       "      <td>1.689260e+01</td>\n",
       "      <td>-3.863593e+02</td>\n",
       "      <td>1.547295e+04</td>\n",
       "      <td>-1.432737e+05</td>\n",
       "      <td>1.722365e+05</td>\n",
       "    </tr>\n",
       "    <tr>\n",
       "      <th>std</th>\n",
       "      <td>1.664929e+02</td>\n",
       "      <td>1.797637e+00</td>\n",
       "      <td>2.479213e+05</td>\n",
       "      <td>1.942466e+05</td>\n",
       "      <td>1.179133e+03</td>\n",
       "      <td>1.639990e+02</td>\n",
       "      <td>1.128350e+03</td>\n",
       "      <td>1.639990e+02</td>\n",
       "      <td>2.479213e-01</td>\n",
       "      <td>1.942466e-01</td>\n",
       "      <td>1.834690e+02</td>\n",
       "      <td>2.810983e+02</td>\n",
       "      <td>1.076224e+05</td>\n",
       "      <td>9.332753e+04</td>\n",
       "      <td>1.067425e+05</td>\n",
       "    </tr>\n",
       "    <tr>\n",
       "      <th>min</th>\n",
       "      <td>-1.838281e+02</td>\n",
       "      <td>-8.535144e+01</td>\n",
       "      <td>-5.854745e+05</td>\n",
       "      <td>-1.354850e+06</td>\n",
       "      <td>-9.999000e+03</td>\n",
       "      <td>0.000000e+00</td>\n",
       "      <td>-9.999000e+03</td>\n",
       "      <td>-1.000000e+01</td>\n",
       "      <td>1.452545e-02</td>\n",
       "      <td>4.515033e-02</td>\n",
       "      <td>-6.184717e+02</td>\n",
       "      <td>-1.115207e+03</td>\n",
       "      <td>-9.911988e+05</td>\n",
       "      <td>-1.618365e+06</td>\n",
       "      <td>0.000000e+00</td>\n",
       "    </tr>\n",
       "    <tr>\n",
       "      <th>25%</th>\n",
       "      <td>-1.676720e+02</td>\n",
       "      <td>-8.198556e+01</td>\n",
       "      <td>-2.402218e+05</td>\n",
       "      <td>-1.140291e+06</td>\n",
       "      <td>-4.614679e+00</td>\n",
       "      <td>3.325201e+02</td>\n",
       "      <td>-5.079000e+02</td>\n",
       "      <td>3.225201e+02</td>\n",
       "      <td>3.597782e-01</td>\n",
       "      <td>2.597090e-01</td>\n",
       "      <td>-9.051174e+01</td>\n",
       "      <td>-6.108998e+02</td>\n",
       "      <td>-3.022022e+04</td>\n",
       "      <td>-2.098959e+05</td>\n",
       "      <td>9.968633e+04</td>\n",
       "    </tr>\n",
       "    <tr>\n",
       "      <th>50%</th>\n",
       "      <td>-1.549229e+02</td>\n",
       "      <td>-8.025996e+01</td>\n",
       "      <td>-6.177780e+04</td>\n",
       "      <td>-1.010244e+06</td>\n",
       "      <td>5.216776e+00</td>\n",
       "      <td>3.845108e+02</td>\n",
       "      <td>-3.815674e+02</td>\n",
       "      <td>3.745108e+02</td>\n",
       "      <td>5.382222e-01</td>\n",
       "      <td>3.897558e-01</td>\n",
       "      <td>3.485885e+01</td>\n",
       "      <td>-3.386523e+02</td>\n",
       "      <td>1.107357e+04</td>\n",
       "      <td>-1.378926e+05</td>\n",
       "      <td>1.746399e+05</td>\n",
       "    </tr>\n",
       "    <tr>\n",
       "      <th>75%</th>\n",
       "      <td>1.695541e+02</td>\n",
       "      <td>-7.919893e+01</td>\n",
       "      <td>1.393821e+05</td>\n",
       "      <td>-8.502297e+05</td>\n",
       "      <td>1.970000e+01</td>\n",
       "      <td>5.190994e+02</td>\n",
       "      <td>-3.335464e+02</td>\n",
       "      <td>5.090994e+02</td>\n",
       "      <td>7.393821e-01</td>\n",
       "      <td>5.497703e-01</td>\n",
       "      <td>1.114358e+02</td>\n",
       "      <td>-1.641154e+02</td>\n",
       "      <td>4.353602e+04</td>\n",
       "      <td>-8.011014e+04</td>\n",
       "      <td>2.413950e+05</td>\n",
       "    </tr>\n",
       "    <tr>\n",
       "      <th>max</th>\n",
       "      <td>1.949701e+02</td>\n",
       "      <td>-7.743235e+01</td>\n",
       "      <td>3.894639e+05</td>\n",
       "      <td>-4.497456e+05</td>\n",
       "      <td>1.050800e+04</td>\n",
       "      <td>2.164640e+03</td>\n",
       "      <td>9.999000e+03</td>\n",
       "      <td>2.154640e+03</td>\n",
       "      <td>9.894639e-01</td>\n",
       "      <td>9.502544e-01</td>\n",
       "      <td>4.306498e+02</td>\n",
       "      <td>2.317215e+02</td>\n",
       "      <td>3.852617e+05</td>\n",
       "      <td>1.412245e+05</td>\n",
       "      <td>1.626300e+06</td>\n",
       "    </tr>\n",
       "  </tbody>\n",
       "</table>\n",
       "</div>"
      ],
      "text/plain": [
       "                lon           lat             x             y             s  \\\n",
       "count  3.208089e+06  3.208089e+06  3.208089e+06  3.208089e+06  3.208089e+06   \n",
       "mean  -2.265057e+01 -8.058367e+01 -6.527108e+04 -9.934490e+05 -1.320645e+02   \n",
       "std    1.664929e+02  1.797637e+00  2.479213e+05  1.942466e+05  1.179133e+03   \n",
       "min   -1.838281e+02 -8.535144e+01 -5.854745e+05 -1.354850e+06 -9.999000e+03   \n",
       "25%   -1.676720e+02 -8.198556e+01 -2.402218e+05 -1.140291e+06 -4.614679e+00   \n",
       "50%   -1.549229e+02 -8.025996e+01 -6.177780e+04 -1.010244e+06  5.216776e+00   \n",
       "75%    1.695541e+02 -7.919893e+01  1.393821e+05 -8.502297e+05  1.970000e+01   \n",
       "max    1.949701e+02 -7.743235e+01  3.894639e+05 -4.497456e+05  1.050800e+04   \n",
       "\n",
       "                  t             b          t_fa        x_norm        y_norm  \\\n",
       "count  3.208089e+06  3.208089e+06  3.208089e+06  3.208089e+06  3.208089e+06   \n",
       "mean   4.353785e+02 -5.573809e+02  4.253785e+02  5.347289e-01  4.065510e-01   \n",
       "std    1.639990e+02  1.128350e+03  1.639990e+02  2.479213e-01  1.942466e-01   \n",
       "min    0.000000e+00 -9.999000e+03 -1.000000e+01  1.452545e-02  4.515033e-02   \n",
       "25%    3.325201e+02 -5.079000e+02  3.225201e+02  3.597782e-01  2.597090e-01   \n",
       "50%    3.845108e+02 -3.815674e+02  3.745108e+02  5.382222e-01  3.897558e-01   \n",
       "75%    5.190994e+02 -3.335464e+02  5.090994e+02  7.393821e-01  5.497703e-01   \n",
       "max    2.164640e+03  9.999000e+03  2.154640e+03  9.894639e-01  9.502544e-01   \n",
       "\n",
       "                 VX            VY       VX_flux       VY_flux      flux_mag  \n",
       "count  3.208089e+06  3.208089e+06  3.208089e+06  3.208089e+06  3.208089e+06  \n",
       "mean   1.689260e+01 -3.863593e+02  1.547295e+04 -1.432737e+05  1.722365e+05  \n",
       "std    1.834690e+02  2.810983e+02  1.076224e+05  9.332753e+04  1.067425e+05  \n",
       "min   -6.184717e+02 -1.115207e+03 -9.911988e+05 -1.618365e+06  0.000000e+00  \n",
       "25%   -9.051174e+01 -6.108998e+02 -3.022022e+04 -2.098959e+05  9.968633e+04  \n",
       "50%    3.485885e+01 -3.386523e+02  1.107357e+04 -1.378926e+05  1.746399e+05  \n",
       "75%    1.114358e+02 -1.641154e+02  4.353602e+04 -8.011014e+04  2.413950e+05  \n",
       "max    4.306498e+02  2.317215e+02  3.852617e+05  1.412245e+05  1.626300e+06  "
      ]
     },
     "execution_count": 13,
     "metadata": {},
     "output_type": "execute_result"
    }
   ],
   "source": [
    "thickness.describe()"
   ]
  },
  {
   "cell_type": "code",
   "execution_count": 21,
   "id": "fe744508",
   "metadata": {},
   "outputs": [
    {
     "data": {
      "text/plain": [
       "438.9084640773132"
      ]
     },
     "execution_count": 21,
     "metadata": {},
     "output_type": "execute_result"
    }
   ],
   "source": [
    "np.sqrt(thickness[\"VX\"]**2 + thickness[\"VY\"]**2).mean()"
   ]
  },
  {
   "cell_type": "code",
   "execution_count": 3,
   "id": "2bd884fc",
   "metadata": {},
   "outputs": [],
   "source": [
    "ice_vel = xr.load_dataset(\"/home/kim/data/nsidc/antarctic_ice_vel_phase_map_v01.nc\")\n",
    "\n",
    "x_min = - 600_000\n",
    "x_max = 400_000\n",
    "y_min = - 1_400_000\n",
    "y_max = - 400_000\n",
    "\n",
    "velocity = ice_vel.sel(\n",
    "    x = slice(x_min, x_max), \n",
    "    y = slice(y_max, y_min))"
   ]
  },
  {
   "cell_type": "code",
   "execution_count": 4,
   "id": "3c5a1d0a",
   "metadata": {},
   "outputs": [
    {
     "name": "stdout",
     "output_type": "stream",
     "text": [
      "(3239963, 14)\n"
     ]
    }
   ],
   "source": [
    "# Interpolate\n",
    "vel_at_points = velocity[[\"VX\", \"VY\"]].interp(\n",
    "    x = (\"points\", thickness[\"x\"].values),\n",
    "    y = (\"points\", thickness[\"y\"].values),\n",
    "    method = \"linear\",\n",
    ")\n",
    "\n",
    "# Add to dataset\n",
    "thickness[\"VX\"] = vel_at_points[\"VX\"].values\n",
    "thickness[\"VY\"] = vel_at_points[\"VY\"].values\n",
    "\n",
    "print(thickness.shape)"
   ]
  },
  {
   "cell_type": "code",
   "execution_count": 5,
   "id": "cea46460",
   "metadata": {},
   "outputs": [
    {
     "name": "stdout",
     "output_type": "stream",
     "text": [
      "VX_flux     31874\n",
      "VY_flux     31874\n",
      "flux_mag    31874\n",
      "dtype: int64\n",
      "(3208089, 17)\n"
     ]
    }
   ],
   "source": [
    "thickness[\"VX\"] = vel_at_points[\"VX\"].values\n",
    "thickness[\"VY\"] = vel_at_points[\"VY\"].values\n",
    "# thickness[\"speed\"] = np.hypot(thickness[\"VX\"], thickness[\"VY\"])\n",
    "\n",
    "# Multiply velocity components by thickness (t_fa) to get flux components\n",
    "thickness[\"VX_flux\"] = thickness[\"VX\"] * thickness[\"t_fa\"]\n",
    "thickness[\"VY_flux\"] = thickness[\"VY\"] * thickness[\"t_fa\"]\n",
    "\n",
    "# If you also want total flux magnitude\n",
    "thickness[\"flux_mag\"] = np.hypot(thickness[\"VX_flux\"], thickness[\"VY_flux\"])\n",
    "\n",
    "# Optionally drop rows with NaNs if you want a clean dataset\n",
    "# Check for NaNs\n",
    "print(thickness[[\"VX_flux\", \"VY_flux\", \"flux_mag\"]].isna().sum())\n",
    "# Remove\n",
    "thickness = thickness.dropna(subset = [\"VX_flux\", \"VY_flux\", \"flux_mag\"])\n",
    "print(thickness.shape)"
   ]
  },
  {
   "cell_type": "code",
   "execution_count": 6,
   "id": "d983896e",
   "metadata": {},
   "outputs": [
    {
     "data": {
      "image/png": "[encoded data removed]",
      "text/plain": [
       "<Figure size 800x600 with 1 Axes>"
      ]
     },
     "metadata": {},
     "output_type": "display_data"
    }
   ],
   "source": [
    "plt.figure(figsize = (8, 6))\n",
    "plt.hist(thickness[\"flux_mag\"], bins = 50, edgecolor=\"white\")\n",
    "plt.xlabel(\"Flux magnitude\")\n",
    "plt.ylabel(\"Count\")\n",
    "plt.title(\"Histogram of Ice Flux Magnitude\")\n",
    "plt.grid(alpha = 0.3)\n",
    "plt.tight_layout()\n",
    "plt.show()"
   ]
  },
  {
   "cell_type": "code",
   "execution_count": 7,
   "id": "7ece277f",
   "metadata": {},
   "outputs": [
    {
     "name": "stdout",
     "output_type": "stream",
     "text": [
      "1.1582580433998522\n",
      "0.8710024484631258\n"
     ]
    }
   ],
   "source": [
    "# Print variance after normalisation\n",
    "print(np.var(thickness[\"VX_flux\"] / 100_000))\n",
    "print(np.var(thickness[\"VY_flux\"] / 100_000))"
   ]
  },
  {
   "cell_type": "code",
   "execution_count": 8,
   "id": "46d92fd6",
   "metadata": {},
   "outputs": [
    {
     "name": "stdout",
     "output_type": "stream",
     "text": [
      "torch.Size([3208089, 4])\n",
      "tensor([[ 0.3674,  0.2412, -0.5594, -2.4007],\n",
      "        [ 0.4251,  0.2271, -0.5252, -2.4452],\n",
      "        [ 0.4743,  0.2073, -0.7175, -2.8999],\n",
      "        [ 0.5392,  0.2003, -0.5343, -2.9448],\n",
      "        [ 0.6142,  0.2098, -0.5676, -3.2343]])\n"
     ]
    }
   ],
   "source": [
    "# Normalize into [0, 1]\n",
    "thickness[\"x_norm\"] = (thickness[\"x\"] - x_min) / (x_max - x_min)\n",
    "thickness[\"y_norm\"] = (thickness[\"y\"] - y_min) / (y_max - y_min)\n",
    "\n",
    "# Build tensor with x_norm, y_norm, scaled flux\n",
    "flux_tensor = torch.tensor(\n",
    "    np.stack([\n",
    "        thickness[\"x_norm\"].values,\n",
    "        thickness[\"y_norm\"].values,\n",
    "        thickness[\"VX_flux\"].values / 100_000,\n",
    "        thickness[\"VY_flux\"].values / 100_000,\n",
    "    ], axis = 1),\n",
    "    dtype = torch.float32\n",
    ")\n",
    "\n",
    "print(flux_tensor.shape)\n",
    "print(flux_tensor[:5])  # preview first rows"
   ]
  },
  {
   "cell_type": "code",
   "execution_count": null,
   "id": "dd9f99c0",
   "metadata": {},
   "outputs": [
    {
     "data": {
      "image/png": "[encoded data removed]",
      "text/plain": [
       "<Figure size 1200x500 with 2 Axes>"
      ]
     },
     "metadata": {},
     "output_type": "display_data"
    }
   ],
   "source": [
    "import matplotlib.pyplot as plt\n",
    "\n",
    "# Extract the last two columns\n",
    "vx_flux_scaled = flux_tensor[:, 2].numpy()\n",
    "vy_flux_scaled = flux_tensor[:, 3].numpy()\n",
    "\n",
    "# Plot histograms\n",
    "fig, axes = plt.subplots(1, 2, figsize = (12, 5), sharey = True)\n",
    "\n",
    "axes[0].hist(vx_flux_scaled, bins = 50, edgecolor = \"white\")\n",
    "axes[0].set_title(\"VX_flux / 100_000\")\n",
    "axes[0].set_xlabel(\"Value\")\n",
    "axes[0].set_ylabel(\"Count\")\n",
    "axes[0].grid(alpha = 0.3)\n",
    "\n",
    "axes[1].hist(vy_flux_scaled, bins = 50, edgecolor = \"white\", color = \"orange\")\n",
    "axes[1].set_title(\"VY_flux / 100000\")\n",
    "axes[1].set_xlabel(\"Value\")\n",
    "axes[1].grid(alpha = 0.3)\n",
    "\n",
    "plt.tight_layout()\n",
    "plt.show()"
   ]
  },
  {
   "cell_type": "code",
   "execution_count": 22,
   "id": "bb6c5386",
   "metadata": {},
   "outputs": [
    {
     "data": {
      "text/plain": [
       "186150"
      ]
     },
     "execution_count": 22,
     "metadata": {},
     "output_type": "execute_result"
    }
   ],
   "source": [
    "# 500 * 200\n",
    "# 425 meter ice * 438 meter per year\n",
    "425 * 438"
   ]
  },
  {
   "cell_type": "code",
   "execution_count": 10,
   "id": "21e57169",
   "metadata": {},
   "outputs": [],
   "source": [
    "torch.save(flux_tensor, \"data/flux_train_tensor.pt\")"
   ]
  }
 ],
 "metadata": {
  "kernelspec": {
   "display_name": "base",
   "language": "python",
   "name": "python3"
  },
  "language_info": {
   "codemirror_mode": {
    "name": "ipython",
    "version": 3
   },
   "file_extension": ".py",
   "mimetype": "text/x-python",
   "name": "python",
   "nbconvert_exporter": "python",
   "pygments_lexer": "ipython3",
   "version": "3.11.3"
  }
 },
 "nbformat": 4,
 "nbformat_minor": 5
}
